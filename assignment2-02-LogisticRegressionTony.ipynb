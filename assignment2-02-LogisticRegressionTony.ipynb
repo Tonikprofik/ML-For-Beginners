{
 "cells": [
  {
   "cell_type": "code",
   "execution_count": 167,
   "metadata": {},
   "outputs": [
    {
     "name": "stdout",
     "output_type": "stream",
     "text": [
      "   City Name Type       Package      Variety Sub Variety  Grade     Date  \\\n",
      "0  BALTIMORE  NaN  24 inch bins          NaN         NaN    NaN  4/29/17   \n",
      "1  BALTIMORE  NaN  24 inch bins          NaN         NaN    NaN   5/6/17   \n",
      "2  BALTIMORE  NaN  24 inch bins  HOWDEN TYPE         NaN    NaN  9/24/16   \n",
      "3  BALTIMORE  NaN  24 inch bins  HOWDEN TYPE         NaN    NaN  9/24/16   \n",
      "4  BALTIMORE  NaN  24 inch bins  HOWDEN TYPE         NaN    NaN  11/5/16   \n",
      "\n",
      "   Low Price  High Price  Mostly Low  ...  Unit of Sale Quality Condition  \\\n",
      "0      270.0       280.0       270.0  ...           NaN     NaN       NaN   \n",
      "1      270.0       280.0       270.0  ...           NaN     NaN       NaN   \n",
      "2      160.0       160.0       160.0  ...           NaN     NaN       NaN   \n",
      "3      160.0       160.0       160.0  ...           NaN     NaN       NaN   \n",
      "4       90.0       100.0        90.0  ...           NaN     NaN       NaN   \n",
      "\n",
      "  Appearance Storage  Crop Repack  Trans Mode  Unnamed: 24  Unnamed: 25  \n",
      "0        NaN     NaN   NaN      E         NaN          NaN          NaN  \n",
      "1        NaN     NaN   NaN      E         NaN          NaN          NaN  \n",
      "2        NaN     NaN   NaN      N         NaN          NaN          NaN  \n",
      "3        NaN     NaN   NaN      N         NaN          NaN          NaN  \n",
      "4        NaN     NaN   NaN      N         NaN          NaN          NaN  \n",
      "\n",
      "[5 rows x 26 columns]\n"
     ]
    }
   ],
   "source": [
    "import pandas as pd\n",
    "import numpy as np\n",
    "import matplotlib.pyplot as plt\n",
    "import seaborn as sns\n",
    "from sklearn.preprocessing import StandardScaler\n",
    "from sklearn.model_selection import train_test_split\n",
    "from sklearn.linear_model import LogisticRegression\n",
    "from sklearn.metrics import confusion_matrix, roc_curve, roc_auc_score\n",
    "\n",
    "# Load the pumpkins CSV file into a pandas DataFrame\n",
    "# !!import the right pumkin csv\n",
    "pumpkins = pd.read_csv('2-Regression/data/US-pumpkins.csv')\n",
    "print(pumpkins.head())\n"
   ]
  },
  {
   "cell_type": "code",
   "execution_count": 168,
   "metadata": {},
   "outputs": [
    {
     "name": "stdout",
     "output_type": "stream",
     "text": [
      "City Name             0\n",
      "Type               1712\n",
      "Package               0\n",
      "Variety               5\n",
      "Sub Variety        1461\n",
      "Grade              1757\n",
      "Date                  0\n",
      "Low Price             0\n",
      "High Price            0\n",
      "Mostly Low          103\n",
      "Mostly High         103\n",
      "Origin                3\n",
      "Origin District    1626\n",
      "Item Size           279\n",
      "Color               616\n",
      "Environment        1757\n",
      "Unit of Sale       1595\n",
      "Quality            1757\n",
      "Condition          1757\n",
      "Appearance         1757\n",
      "Storage            1757\n",
      "Crop               1757\n",
      "Repack                0\n",
      "Trans Mode         1757\n",
      "Unnamed: 24        1757\n",
      "Unnamed: 25        1654\n",
      "dtype: int64\n"
     ]
    }
   ],
   "source": [
    "print(pumpkins.isnull().sum())"
   ]
  },
  {
   "cell_type": "code",
   "execution_count": 169,
   "metadata": {},
   "outputs": [
    {
     "name": "stdout",
     "output_type": "stream",
     "text": [
      "   City Name Type       Package      Variety Sub Variety  Grade     Date  \\\n",
      "0  BALTIMORE  NaN  24 inch bins          NaN         NaN    NaN  4/29/17   \n",
      "1  BALTIMORE  NaN  24 inch bins          NaN         NaN    NaN   5/6/17   \n",
      "2  BALTIMORE  NaN  24 inch bins  HOWDEN TYPE         NaN    NaN  9/24/16   \n",
      "3  BALTIMORE  NaN  24 inch bins  HOWDEN TYPE         NaN    NaN  9/24/16   \n",
      "4  BALTIMORE  NaN  24 inch bins  HOWDEN TYPE         NaN    NaN  11/5/16   \n",
      "\n",
      "   Low Price  High Price  Mostly Low  ...  Unit of Sale Quality Condition  \\\n",
      "0      270.0       280.0       270.0  ...           NaN     NaN       NaN   \n",
      "1      270.0       280.0       270.0  ...           NaN     NaN       NaN   \n",
      "2      160.0       160.0       160.0  ...           NaN     NaN       NaN   \n",
      "3      160.0       160.0       160.0  ...           NaN     NaN       NaN   \n",
      "4       90.0       100.0        90.0  ...           NaN     NaN       NaN   \n",
      "\n",
      "  Appearance Storage  Crop Repack  Trans Mode  Unnamed: 24  Unnamed: 25  \n",
      "0        NaN     NaN   NaN      E         NaN          NaN          NaN  \n",
      "1        NaN     NaN   NaN      E         NaN          NaN          NaN  \n",
      "2        NaN     NaN   NaN      N         NaN          NaN          NaN  \n",
      "3        NaN     NaN   NaN      N         NaN          NaN          NaN  \n",
      "4        NaN     NaN   NaN      N         NaN          NaN          NaN  \n",
      "\n",
      "[5 rows x 26 columns]\n"
     ]
    }
   ],
   "source": [
    "# pumpkins['Year'] = pumpkins['Date'].dt.year\n",
    "# pumpkins['Date'] = pd.to_datetime(pumpkins['Date'])\n",
    "# pumpkins['Day'] = pumpkins['Date'].dt.day\n",
    "# pumpkins['Month'] = pumpkins['Date'].dt.month\n",
    "print(pumpkins.head())"
   ]
  },
  {
   "cell_type": "code",
   "execution_count": 170,
   "metadata": {},
   "outputs": [
    {
     "name": "stdout",
     "output_type": "stream",
     "text": [
      "        Package      Variety  Low Price  High Price  Mostly Low  Mostly High\n",
      "0  24 inch bins          NaN      270.0       280.0       270.0        280.0\n",
      "1  24 inch bins          NaN      270.0       280.0       270.0        280.0\n",
      "2  24 inch bins  HOWDEN TYPE      160.0       160.0       160.0        160.0\n",
      "3  24 inch bins  HOWDEN TYPE      160.0       160.0       160.0        160.0\n",
      "4  24 inch bins  HOWDEN TYPE       90.0       100.0        90.0        100.0\n"
     ]
    }
   ],
   "source": [
    "pumpkins.drop(['Type','Origin','Environment', 'Origin District', 'Item Size', 'Color','City Name', 'Sub Variety', 'Grade', 'Date', 'Unit of Sale', 'Quality', 'Condition', 'Appearance', 'Storage', 'Crop', 'Repack', 'Trans Mode', 'Unnamed: 24', 'Unnamed: 25'], axis=1, inplace=True)\n",
    "print(pumpkins.head())"
   ]
  },
  {
   "cell_type": "code",
   "execution_count": 171,
   "metadata": {},
   "outputs": [
    {
     "name": "stdout",
     "output_type": "stream",
     "text": [
      "   Package  Variety  Low Price  High Price  Mostly Low  Mostly High\n",
      "0        5       -1      270.0       280.0       270.0        280.0\n",
      "1        5       -1      270.0       280.0       270.0        280.0\n",
      "2        5        4      160.0       160.0       160.0        160.0\n",
      "3        5        4      160.0       160.0       160.0        160.0\n",
      "4        5        4       90.0       100.0        90.0        100.0\n"
     ]
    }
   ],
   "source": [
    "# good for time series data\n",
    "pumpkins.interpolate(inplace=True)\n"
   ]
  },
  {
   "cell_type": "code",
   "execution_count": null,
   "metadata": {},
   "outputs": [],
   "source": [
    "# clean and standardize the data\n",
    "# pumpkins.dropna(inplace=True)\n",
    "pumpkins['Variety'] = pd.Categorical(pumpkins['Variety'])\n",
    "pumpkins['Variety'] = pumpkins['Variety'].cat.codes\n",
    "pumpkins['Package'] = pd.Categorical(pumpkins['Package'])\n",
    "pumpkins['Package'] = pumpkins['Package'].cat.codes\n",
    "\n",
    "print(pumpkins.head())\n"
   ]
  },
  {
   "cell_type": "code",
   "execution_count": 172,
   "metadata": {},
   "outputs": [
    {
     "name": "stdout",
     "output_type": "stream",
     "text": [
      "Package           int8\n",
      "Variety           int8\n",
      "Low Price      float64\n",
      "High Price     float64\n",
      "Mostly Low     float64\n",
      "Mostly High    float64\n",
      "dtype: object\n",
      "Index(['Package', 'Variety', 'Low Price', 'High Price', 'Mostly Low',\n",
      "       'Mostly High'],\n",
      "      dtype='object')\n"
     ]
    }
   ],
   "source": [
    "print(pumpkins.dtypes)\n",
    "print(pumpkins.columns)\n"
   ]
  },
  {
   "cell_type": "code",
   "execution_count": 173,
   "metadata": {},
   "outputs": [
    {
     "name": "stdout",
     "output_type": "stream",
     "text": [
      "Package        0\n",
      "Variety        0\n",
      "Low Price      0\n",
      "High Price     0\n",
      "Mostly Low     0\n",
      "Mostly High    0\n",
      "dtype: int64\n",
      "   Package  Variety  Low Price  High Price  Mostly Low  Mostly High\n",
      "0        5       -1      270.0       280.0       270.0        280.0\n",
      "1        5       -1      270.0       280.0       270.0        280.0\n",
      "2        5        4      160.0       160.0       160.0        160.0\n",
      "3        5        4      160.0       160.0       160.0        160.0\n",
      "4        5        4       90.0       100.0        90.0        100.0\n"
     ]
    }
   ],
   "source": [
    "# pumpkins.dropna(inplace=True)\n",
    "# pumpkins['Package'] = pd.to_numeric(pumpkins['Package'], errors='coerce')\n",
    "# print(np.isfinite(pumpkins).sum())\n",
    "print(np.isnan(pumpkins).sum())\n",
    "\n",
    "pumpkins.replace([np.inf, -np.inf], np.nan, inplace=True)\n",
    "pumpkins.fillna(pumpkins.mean(), inplace=True)\n",
    "print(pumpkins.head())\n"
   ]
  },
  {
   "cell_type": "code",
   "execution_count": 174,
   "metadata": {},
   "outputs": [
    {
     "name": "stdout",
     "output_type": "stream",
     "text": [
      "(1757, 6)\n"
     ]
    }
   ],
   "source": [
    "\n",
    "print(pumpkins.shape)\n",
    "# rows, columns (1757, 6)\n"
   ]
  },
  {
   "cell_type": "code",
   "execution_count": 175,
   "metadata": {},
   "outputs": [],
   "source": [
    "\n",
    "scaler = StandardScaler()\n",
    "pumpkins = pd.DataFrame(scaler.fit_transform(pumpkins), columns=pumpkins.columns)\n"
   ]
  },
  {
   "cell_type": "code",
   "execution_count": 176,
   "metadata": {},
   "outputs": [
    {
     "name": "stdout",
     "output_type": "stream",
     "text": [
      "Package        float64\n",
      "Low Price      float64\n",
      "High Price     float64\n",
      "Mostly Low     float64\n",
      "Mostly High    float64\n",
      "dtype: object\n"
     ]
    }
   ],
   "source": [
    "\n",
    "# Split the data into training and testing sets\n",
    "X = pumpkins.drop('Variety', axis=1)\n",
    "y = pumpkins['Variety']\n",
    "X_train, X_test, y_train, y_test = train_test_split(X, y, test_size=0.2, random_state=42)\n",
    "print(X_train.dtypes)"
   ]
  },
  {
   "cell_type": "code",
   "execution_count": 181,
   "metadata": {},
   "outputs": [
    {
     "name": "stdout",
     "output_type": "stream",
     "text": [
      "Package        1405\n",
      "Low Price      1405\n",
      "High Price     1405\n",
      "Mostly Low     1405\n",
      "Mostly High    1405\n",
      "dtype: int64\n",
      "Package        0\n",
      "Low Price      0\n",
      "High Price     0\n",
      "Mostly Low     0\n",
      "Mostly High    0\n",
      "dtype: int64\n",
      "(1405, 5)\n",
      "Package    Low Price  High Price  Mostly Low  Mostly High\n",
      "-0.154668   0.899537   0.748932    0.891396    0.825557      58\n",
      " 0.579797   0.303254   0.190270    0.323366    0.269402      40\n",
      "-0.154668   1.615078   1.698659    1.857047    1.771020      35\n",
      "            0.303254   0.190270    0.323366    0.269402      31\n",
      " 0.579797   0.422511   0.302002    0.436972    0.380633      31\n",
      "                                                             ..\n",
      "            0.541767   0.972397    0.891396    0.825557       1\n",
      " 0.212564  -1.109938  -1.128174   -1.022865   -1.043124       1\n",
      "           -1.103975  -1.128174   -1.017185   -1.043124       1\n",
      " 0.579797   0.541767   0.525467    0.550578    0.603095       1\n",
      "           -0.293030  -0.144928   -0.244664   -0.064291       1\n",
      "Name: count, Length: 341, dtype: int64\n"
     ]
    }
   ],
   "source": [
    "X_train.replace([np.inf, -np.inf], np.nan, inplace=True)\n",
    "# fill missing values with mean column values\n",
    "X_train.fillna(X_train.mean(), inplace=True)\n",
    "print(np.isfinite(X_train).sum())\n",
    "print(np.isnan(X_train).sum())\n",
    "print(X_train.shape)\n",
    "# check balance of classes\n",
    "print(X_train.value_counts())"
   ]
  },
  {
   "cell_type": "code",
   "execution_count": 180,
   "metadata": {},
   "outputs": [
    {
     "name": "stdout",
     "output_type": "stream",
     "text": [
      "1405\n",
      "0\n",
      "(1405,)\n",
      "Variety\n",
      "-0.618782    431\n",
      " 1.246054    370\n",
      " 0.500120    249\n",
      "-0.991749    105\n",
      "-1.364716     62\n",
      "-2.110651     61\n",
      " 0.873087     52\n",
      "-0.245814     40\n",
      " 0.127153     17\n",
      "-1.737683     13\n",
      "-2.483618      5\n",
      "Name: count, dtype: int64\n"
     ]
    }
   ],
   "source": [
    "print(np.isfinite(y_train).sum())\n",
    "print(np.isnan(y_train).sum())\n",
    "print(y_train.shape)\n",
    "print(y_train.value_counts())"
   ]
  },
  {
   "cell_type": "code",
   "execution_count": 182,
   "metadata": {},
   "outputs": [
    {
     "ename": "ValueError",
     "evalue": "Unknown label type: 'continuous'",
     "output_type": "error",
     "traceback": [
      "\u001b[1;31m---------------------------------------------------------------------------\u001b[0m",
      "\u001b[1;31mValueError\u001b[0m                                Traceback (most recent call last)",
      "\u001b[1;32mx:\\Learning Process\\Training Practice\\ML-AI\\ML-For-Beginners\\assignment2-02-LogisticRegressionTony.ipynb Cell 14\u001b[0m line \u001b[0;36m6\n\u001b[0;32m      <a href='vscode-notebook-cell:/x%3A/Learning%20Process/Training%20Practice/ML-AI/ML-For-Beginners/assignment2-02-LogisticRegressionTony.ipynb#X15sZmlsZQ%3D%3D?line=2'>3</a>\u001b[0m log_reg \u001b[39m=\u001b[39m LogisticRegression(C\u001b[39m=\u001b[39m\u001b[39m0.1\u001b[39m, solver\u001b[39m=\u001b[39m\u001b[39m'\u001b[39m\u001b[39mlbfgs\u001b[39m\u001b[39m'\u001b[39m, max_iter\u001b[39m=\u001b[39m\u001b[39m1000\u001b[39m)\n\u001b[0;32m      <a href='vscode-notebook-cell:/x%3A/Learning%20Process/Training%20Practice/ML-AI/ML-For-Beginners/assignment2-02-LogisticRegressionTony.ipynb#X15sZmlsZQ%3D%3D?line=4'>5</a>\u001b[0m \u001b[39m# Train the model on the training set\u001b[39;00m\n\u001b[1;32m----> <a href='vscode-notebook-cell:/x%3A/Learning%20Process/Training%20Practice/ML-AI/ML-For-Beginners/assignment2-02-LogisticRegressionTony.ipynb#X15sZmlsZQ%3D%3D?line=5'>6</a>\u001b[0m log_reg\u001b[39m.\u001b[39;49mfit(X_train, y_train)\n",
      "File \u001b[1;32mc:\\Anaconda3\\envs\\MLME-23\\lib\\site-packages\\sklearn\\linear_model\\_logistic.py:1204\u001b[0m, in \u001b[0;36mLogisticRegression.fit\u001b[1;34m(self, X, y, sample_weight)\u001b[0m\n\u001b[0;32m   1194\u001b[0m     _dtype \u001b[39m=\u001b[39m [np\u001b[39m.\u001b[39mfloat64, np\u001b[39m.\u001b[39mfloat32]\n\u001b[0;32m   1196\u001b[0m X, y \u001b[39m=\u001b[39m \u001b[39mself\u001b[39m\u001b[39m.\u001b[39m_validate_data(\n\u001b[0;32m   1197\u001b[0m     X,\n\u001b[0;32m   1198\u001b[0m     y,\n\u001b[1;32m   (...)\u001b[0m\n\u001b[0;32m   1202\u001b[0m     accept_large_sparse\u001b[39m=\u001b[39msolver \u001b[39mnot\u001b[39;00m \u001b[39min\u001b[39;00m [\u001b[39m\"\u001b[39m\u001b[39mliblinear\u001b[39m\u001b[39m\"\u001b[39m, \u001b[39m\"\u001b[39m\u001b[39msag\u001b[39m\u001b[39m\"\u001b[39m, \u001b[39m\"\u001b[39m\u001b[39msaga\u001b[39m\u001b[39m\"\u001b[39m],\n\u001b[0;32m   1203\u001b[0m )\n\u001b[1;32m-> 1204\u001b[0m check_classification_targets(y)\n\u001b[0;32m   1205\u001b[0m \u001b[39mself\u001b[39m\u001b[39m.\u001b[39mclasses_ \u001b[39m=\u001b[39m np\u001b[39m.\u001b[39munique(y)\n\u001b[0;32m   1207\u001b[0m multi_class \u001b[39m=\u001b[39m _check_multi_class(\u001b[39mself\u001b[39m\u001b[39m.\u001b[39mmulti_class, solver, \u001b[39mlen\u001b[39m(\u001b[39mself\u001b[39m\u001b[39m.\u001b[39mclasses_))\n",
      "File \u001b[1;32mc:\\Anaconda3\\envs\\MLME-23\\lib\\site-packages\\sklearn\\utils\\multiclass.py:218\u001b[0m, in \u001b[0;36mcheck_classification_targets\u001b[1;34m(y)\u001b[0m\n\u001b[0;32m    210\u001b[0m y_type \u001b[39m=\u001b[39m type_of_target(y, input_name\u001b[39m=\u001b[39m\u001b[39m\"\u001b[39m\u001b[39my\u001b[39m\u001b[39m\"\u001b[39m)\n\u001b[0;32m    211\u001b[0m \u001b[39mif\u001b[39;00m y_type \u001b[39mnot\u001b[39;00m \u001b[39min\u001b[39;00m [\n\u001b[0;32m    212\u001b[0m     \u001b[39m\"\u001b[39m\u001b[39mbinary\u001b[39m\u001b[39m\"\u001b[39m,\n\u001b[0;32m    213\u001b[0m     \u001b[39m\"\u001b[39m\u001b[39mmulticlass\u001b[39m\u001b[39m\"\u001b[39m,\n\u001b[1;32m   (...)\u001b[0m\n\u001b[0;32m    216\u001b[0m     \u001b[39m\"\u001b[39m\u001b[39mmultilabel-sequences\u001b[39m\u001b[39m\"\u001b[39m,\n\u001b[0;32m    217\u001b[0m ]:\n\u001b[1;32m--> 218\u001b[0m     \u001b[39mraise\u001b[39;00m \u001b[39mValueError\u001b[39;00m(\u001b[39m\"\u001b[39m\u001b[39mUnknown label type: \u001b[39m\u001b[39m%r\u001b[39;00m\u001b[39m\"\u001b[39m \u001b[39m%\u001b[39m y_type)\n",
      "\u001b[1;31mValueError\u001b[0m: Unknown label type: 'continuous'"
     ]
    }
   ],
   "source": [
    "\n",
    "# Create a Logistic Regression model\n",
    "# C parameter controls the amount of regularization strength of model, \n",
    "# can use instead different models, decision tree, random forest, etc.\n",
    "log_reg = LogisticRegression(C=0.1, solver='lbfgs', max_iter=1000)\n",
    "\n",
    "# Train the model on the training set\n",
    "log_reg.fit(X_train, y_train)\n",
    "# ValueError 5 log_reg.fit(X_train, y_train)\n"
   ]
  },
  {
   "cell_type": "code",
   "execution_count": null,
   "metadata": {},
   "outputs": [],
   "source": [
    "\n",
    "# make predictions on the testing set\n",
    "y_pred = log_reg.predict(X_test)\n",
    "\n",
    "# evaluate the performance of the model using a confusion matrix and ROC curve\n",
    "cm = confusion_matrix(y_test, y_pred)\n",
    "sns.heatmap(cm, annot=True, cmap='Blues')\n",
    "plt.xlabel('Predicted')\n",
    "plt.ylabel('Actual')\n",
    "plt.show()\n",
    "\n",
    "y_pred_prob = log_reg.predict_proba(X_test)[:, 1]\n",
    "fpr, tpr, thresholds = roc_curve(y_test, y_pred_prob)\n",
    "plt.plot(fpr, tpr)\n",
    "plt.plot([0, 1], [0, 1], 'k--')\n",
    "plt.xlabel('False Positive Rate')\n",
    "plt.ylabel('True Positive Rate')\n",
    "plt.title('ROC Curve')\n",
    "plt.show()\n",
    "\n",
    "auc_score = roc_auc_score(y_test, y_pred_prob)\n",
    "print('AUC Score:', auc_score)\n"
   ]
  }
 ],
 "metadata": {
  "kernelspec": {
   "display_name": "MLME-23",
   "language": "python",
   "name": "python3"
  },
  "language_info": {
   "codemirror_mode": {
    "name": "ipython",
    "version": 3
   },
   "file_extension": ".py",
   "mimetype": "text/x-python",
   "name": "python",
   "nbconvert_exporter": "python",
   "pygments_lexer": "ipython3",
   "version": "3.8.17"
  }
 },
 "nbformat": 4,
 "nbformat_minor": 2
}
